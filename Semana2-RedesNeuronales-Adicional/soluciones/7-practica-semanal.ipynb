{
 "cells": [
  {
   "cell_type": "markdown",
   "metadata": {},
   "source": [
    "## Horses vs Humans\n",
    "\n",
    "Van a crear un notebook de kaggle para probar su clasificador neuronal binario a partir del dataset (https://www.kaggle.com/sanikamal/horses-or-humans-dataset) \n",
    "\n",
    "Indicaciones:\n",
    "\n",
    "- Considere una arquitectura neuronal simple primero.\n",
    "- Deben utilizar Image Augmentation (ImageDataGenerator de Keras).\n",
    "- Considere utilizar BatchNormalization y Dropout\n",
    "- Los optimizadores de moda son SGD, Adam, Adamax, RMSprop\n",
    "- Considere modificar el learning rate comno hyperparametro del optimizador\n",
    "- Debe probar el clasificadfor con imagenes de personas reales y caballos reales.\n",
    "- https://www.kindpng.com/picc/m/154-1542577_full-body-guy-in-suit-png-transparent-png.png\n",
    "- https://www.winnerscircle-equine.com/storage/app/media/3j.jpg\n",
    "\n",
    "Debe entregar en un txt la ruta de su cuaderno de Kaggle. Recuerde probar primero que su ruta es accesible en otro browser.\n",
    "\n",
    "Su clasificador es binario, considere utilizar softmax o sigmoid para comparar su utilidad."
   ]
  },
  {
   "cell_type": "code",
   "execution_count": 2,
   "metadata": {},
   "outputs": [],
   "source": [
    "import tensorflow as tf\n",
    "import keras_preprocessing\n",
    "from keras_preprocessing import image\n",
    "from keras_preprocessing.image import ImageDataGenerator\n",
    "from tensorflow import keras\n",
    "from tensorflow.keras import layers\n",
    "from tensorflow.keras.models import Sequential\n",
    "from tensorflow.keras.layers import Dense\n",
    "\n",
    "# fix 'DirectoryIterator' object has no attribute 'shape'\n",
    "from tensorflow.python.keras.utils.data_utils import Sequence\n",
    "\n",
    "import warnings\n",
    "warnings.filterwarnings('ignore')"
   ]
  },
  {
   "cell_type": "code",
   "execution_count": 3,
   "metadata": {},
   "outputs": [
    {
     "name": "stdout",
     "output_type": "stream",
     "text": [
      "Found 1027 images belonging to 2 classes.\n",
      "Found 256 images belonging to 2 classes.\n"
     ]
    }
   ],
   "source": [
    "ENTRENAMIENTO_DIR = \"C:/Users/XPC/Desktop/horse-or-human/train\"\n",
    "PRUEBAS_DIR = \"C:/Users/XPC/Desktop/horse-or-human/validation\"\n",
    "\n",
    "# configuracion de entrenamiento\n",
    "entrenamiento_datagen = ImageDataGenerator(\n",
    "    rescale = 1./255,\n",
    "    rotation_range=20,\n",
    "    #width_shift_range=0.2,\n",
    "    #height_shift_range=0.2,\n",
    "    shear_range=0.2,\n",
    "    zoom_range=0.2,\n",
    "    #horizontal_flip=True,\n",
    "    fill_mode='nearest')\n",
    "\n",
    "# generador\n",
    "generador_entrenamiento = entrenamiento_datagen.flow_from_directory(\n",
    "    ENTRENAMIENTO_DIR,\n",
    "    target_size=(128,128),\n",
    "    class_mode='categorical'\n",
    ")\n",
    "\n",
    "# configuacion de pruebas (test set)\n",
    "pruebas_datagen = ImageDataGenerator(rescale=1./255)\n",
    "\n",
    "# generador\n",
    "generator_pruebas = pruebas_datagen.flow_from_directory(\n",
    "        PRUEBAS_DIR,\n",
    "        target_size=(128, 128),\n",
    "        class_mode='categorical')"
   ]
  },
  {
   "cell_type": "code",
   "execution_count": 5,
   "metadata": {},
   "outputs": [
    {
     "name": "stdout",
     "output_type": "stream",
     "text": [
      "WARNING:tensorflow:From C:\\Users\\XPC\\anaconda3\\envs\\py36\\lib\\site-packages\\tensorflow\\python\\ops\\init_ops.py:1251: calling VarianceScaling.__init__ (from tensorflow.python.ops.init_ops) with dtype is deprecated and will be removed in a future version.\n",
      "Instructions for updating:\n",
      "Call initializer instance with the dtype argument instead of passing it to the constructor\n",
      "Model: \"sequential\"\n",
      "_________________________________________________________________\n",
      "Layer (type)                 Output Shape              Param #   \n",
      "=================================================================\n",
      "flatten (Flatten)            (None, 49152)             0         \n",
      "_________________________________________________________________\n",
      "batch_normalization (BatchNo (None, 49152)             196608    \n",
      "_________________________________________________________________\n",
      "dense (Dense)                (None, 512)               25166336  \n",
      "_________________________________________________________________\n",
      "dropout (Dropout)            (None, 512)               0         \n",
      "_________________________________________________________________\n",
      "batch_normalization_1 (Batch (None, 512)               2048      \n",
      "_________________________________________________________________\n",
      "dense_1 (Dense)              (None, 512)               262656    \n",
      "_________________________________________________________________\n",
      "batch_normalization_2 (Batch (None, 512)               2048      \n",
      "_________________________________________________________________\n",
      "dropout_1 (Dropout)          (None, 512)               0         \n",
      "_________________________________________________________________\n",
      "dense_2 (Dense)              (None, 16)                8208      \n",
      "_________________________________________________________________\n",
      "batch_normalization_3 (Batch (None, 16)                64        \n",
      "_________________________________________________________________\n",
      "dense_3 (Dense)              (None, 2)                 34        \n",
      "=================================================================\n",
      "Total params: 25,638,002\n",
      "Trainable params: 25,537,618\n",
      "Non-trainable params: 100,384\n",
      "_________________________________________________________________\n",
      "WARNING:tensorflow:From C:\\Users\\XPC\\anaconda3\\envs\\py36\\lib\\site-packages\\tensorflow\\python\\ops\\nn_impl.py:180: add_dispatch_support.<locals>.wrapper (from tensorflow.python.ops.array_ops) is deprecated and will be removed in a future version.\n",
      "Instructions for updating:\n",
      "Use tf.where in 2.0, which has the same broadcast rule as np.where\n"
     ]
    }
   ],
   "source": [
    "modelo = keras.Sequential(\n",
    "    [\n",
    "        keras.Input(shape=(128, 128, 3)),\n",
    "        # =============================\n",
    "        # ...CAPAS CONVOLUCIONALES...\n",
    "        # =============================\n",
    "        layers.Flatten(),\n",
    "        layers.BatchNormalization(),\n",
    "        layers.Dense(512, activation=\"relu\"),\n",
    "        layers.Dropout(.2),\n",
    "        layers.BatchNormalization(),\n",
    "        layers.Dense(512, activation=\"relu\"),\n",
    "        layers.BatchNormalization(),\n",
    "        layers.Dropout(.2),\n",
    "        layers.Dense(16, activation=\"relu\"),\n",
    "        layers.BatchNormalization(),\n",
    "        layers.Dense(2, activation=\"sigmoid\"),\n",
    "    ]\n",
    ")\n",
    "\n",
    "# paciencia: cantidad de epochs para ver si mejora la cosa.\n",
    "early_stop = keras.callbacks.EarlyStopping(monitor='val_acc', patience=10)\n",
    "\n",
    "modelo.build((128, 128))\n",
    "modelo.summary()\n",
    "\n",
    "opt = keras.optimizers.Adam(learning_rate=0.01)\n",
    "modelo.compile(loss = 'binary_crossentropy', optimizer=opt, metrics=['accuracy'])"
   ]
  },
  {
   "cell_type": "code",
   "execution_count": 6,
   "metadata": {},
   "outputs": [
    {
     "name": "stdout",
     "output_type": "stream",
     "text": [
      "Epoch 1/50\n",
      "33/33 [==============================] - 16s 481ms/step - loss: 0.5288 - acc: 0.7395 - val_loss: 10.4195 - val_acc: 0.5000\n",
      "Epoch 2/50\n",
      "33/33 [==============================] - 14s 410ms/step - loss: 0.4221 - acc: 0.8028 - val_loss: 1.0727 - val_acc: 0.6758\n",
      "Epoch 3/50\n",
      "33/33 [==============================] - 14s 409ms/step - loss: 0.3446 - acc: 0.8315 - val_loss: 0.8997 - val_acc: 0.7402\n",
      "Epoch 4/50\n",
      "33/33 [==============================] - 14s 411ms/step - loss: 0.2981 - acc: 0.8685 - val_loss: 2.6517 - val_acc: 0.5898\n",
      "Epoch 5/50\n",
      "33/33 [==============================] - 13s 409ms/step - loss: 0.2883 - acc: 0.8763 - val_loss: 0.6657 - val_acc: 0.8086\n",
      "Epoch 6/50\n",
      "33/33 [==============================] - 14s 413ms/step - loss: 0.2354 - acc: 0.9056 - val_loss: 0.2855 - val_acc: 0.8926\n",
      "Epoch 7/50\n",
      "33/33 [==============================] - 14s 412ms/step - loss: 0.2418 - acc: 0.9002 - val_loss: 0.9537 - val_acc: 0.8203\n",
      "Epoch 8/50\n",
      "33/33 [==============================] - 14s 414ms/step - loss: 0.2660 - acc: 0.8992 - val_loss: 0.5964 - val_acc: 0.8555\n",
      "Epoch 9/50\n",
      "33/33 [==============================] - 14s 426ms/step - loss: 0.2463 - acc: 0.9206 - val_loss: 0.6332 - val_acc: 0.8535\n",
      "Epoch 10/50\n",
      "33/33 [==============================] - 13s 408ms/step - loss: 0.2932 - acc: 0.9007 - val_loss: 0.7988 - val_acc: 0.8008\n",
      "Epoch 11/50\n",
      "33/33 [==============================] - 14s 412ms/step - loss: 0.2732 - acc: 0.9060 - val_loss: 1.1317 - val_acc: 0.7676\n",
      "Epoch 12/50\n",
      "33/33 [==============================] - 14s 421ms/step - loss: 0.2218 - acc: 0.9177 - val_loss: 0.9372 - val_acc: 0.8145\n",
      "Epoch 13/50\n",
      "33/33 [==============================] - 14s 416ms/step - loss: 0.1963 - acc: 0.9211 - val_loss: 0.4642 - val_acc: 0.8711\n",
      "Epoch 14/50\n",
      "33/33 [==============================] - 14s 409ms/step - loss: 0.2325 - acc: 0.9245 - val_loss: 0.4073 - val_acc: 0.8828\n",
      "Epoch 15/50\n",
      "33/33 [==============================] - 14s 409ms/step - loss: 0.1926 - acc: 0.9357 - val_loss: 0.8749 - val_acc: 0.8047\n",
      "Epoch 16/50\n",
      "33/33 [==============================] - 13s 409ms/step - loss: 0.2047 - acc: 0.9314 - val_loss: 0.3940 - val_acc: 0.8848\n",
      "Epoch 17/50\n",
      "33/33 [==============================] - 14s 409ms/step - loss: 0.1711 - acc: 0.9391 - val_loss: 0.8106 - val_acc: 0.8242\n",
      "Epoch 18/50\n",
      "33/33 [==============================] - 13s 409ms/step - loss: 0.2217 - acc: 0.9323 - val_loss: 0.2117 - val_acc: 0.9355\n",
      "Epoch 19/50\n",
      "33/33 [==============================] - 13s 409ms/step - loss: 0.1728 - acc: 0.9241 - val_loss: 0.2569 - val_acc: 0.9453\n",
      "Epoch 20/50\n",
      "33/33 [==============================] - 13s 408ms/step - loss: 0.1952 - acc: 0.9221 - val_loss: 0.6831 - val_acc: 0.8438\n",
      "Epoch 21/50\n",
      "33/33 [==============================] - 14s 410ms/step - loss: 0.2111 - acc: 0.9318 - val_loss: 1.1935 - val_acc: 0.7109\n",
      "Epoch 22/50\n",
      "33/33 [==============================] - 14s 414ms/step - loss: 0.1856 - acc: 0.9309 - val_loss: 0.3949 - val_acc: 0.9102\n",
      "Epoch 23/50\n",
      "33/33 [==============================] - 14s 413ms/step - loss: 0.1754 - acc: 0.9367 - val_loss: 1.5184 - val_acc: 0.7520\n",
      "Epoch 24/50\n",
      "33/33 [==============================] - 13s 408ms/step - loss: 0.1492 - acc: 0.9362 - val_loss: 0.6844 - val_acc: 0.8789\n",
      "Epoch 25/50\n",
      "33/33 [==============================] - 14s 415ms/step - loss: 0.1605 - acc: 0.9396 - val_loss: 0.9002 - val_acc: 0.8164\n",
      "Epoch 26/50\n",
      "33/33 [==============================] - 13s 408ms/step - loss: 0.1315 - acc: 0.9567 - val_loss: 0.2487 - val_acc: 0.9336\n",
      "Epoch 27/50\n",
      "33/33 [==============================] - 13s 409ms/step - loss: 0.1486 - acc: 0.9469 - val_loss: 0.7717 - val_acc: 0.8262\n",
      "Epoch 28/50\n",
      "33/33 [==============================] - 13s 409ms/step - loss: 0.1570 - acc: 0.9416 - val_loss: 1.1517 - val_acc: 0.7598\n",
      "Epoch 29/50\n",
      "33/33 [==============================] - 13s 409ms/step - loss: 0.1667 - acc: 0.9328 - val_loss: 0.4700 - val_acc: 0.8809\n",
      "Epoch 30/50\n",
      "33/33 [==============================] - 13s 409ms/step - loss: 0.1623 - acc: 0.9396 - val_loss: 1.6360 - val_acc: 0.6973\n",
      "Epoch 31/50\n",
      "33/33 [==============================] - 13s 409ms/step - loss: 0.1243 - acc: 0.9596 - val_loss: 0.7656 - val_acc: 0.8281\n",
      "Epoch 32/50\n",
      "33/33 [==============================] - 14s 413ms/step - loss: 0.1652 - acc: 0.9503 - val_loss: 0.8980 - val_acc: 0.8555\n",
      "Epoch 33/50\n",
      "33/33 [==============================] - 14s 413ms/step - loss: 0.2200 - acc: 0.9304 - val_loss: 1.9404 - val_acc: 0.6816\n",
      "Epoch 34/50\n",
      "33/33 [==============================] - 13s 409ms/step - loss: 0.1289 - acc: 0.9513 - val_loss: 0.4245 - val_acc: 0.9199\n",
      "Epoch 35/50\n",
      "33/33 [==============================] - 13s 409ms/step - loss: 0.1102 - acc: 0.9596 - val_loss: 0.7941 - val_acc: 0.8594\n",
      "Epoch 36/50\n",
      "33/33 [==============================] - 13s 409ms/step - loss: 0.1333 - acc: 0.9586 - val_loss: 1.9284 - val_acc: 0.7090\n",
      "Epoch 37/50\n",
      "33/33 [==============================] - 13s 409ms/step - loss: 0.1658 - acc: 0.9523 - val_loss: 1.1951 - val_acc: 0.7910\n",
      "Epoch 38/50\n",
      "33/33 [==============================] - 13s 409ms/step - loss: 0.0982 - acc: 0.9572 - val_loss: 0.8584 - val_acc: 0.8633\n",
      "Epoch 39/50\n",
      "33/33 [==============================] - 13s 409ms/step - loss: 0.1407 - acc: 0.9620 - val_loss: 0.5564 - val_acc: 0.9004\n",
      "Epoch 40/50\n",
      "33/33 [==============================] - 13s 408ms/step - loss: 0.1571 - acc: 0.9552 - val_loss: 0.7994 - val_acc: 0.7383\n",
      "Epoch 41/50\n",
      "33/33 [==============================] - 13s 409ms/step - loss: 0.1451 - acc: 0.9464 - val_loss: 0.9730 - val_acc: 0.7305\n",
      "Epoch 42/50\n",
      "33/33 [==============================] - 14s 413ms/step - loss: 0.2201 - acc: 0.9474 - val_loss: 0.8720 - val_acc: 0.7832\n",
      "Epoch 43/50\n",
      "33/33 [==============================] - 14s 413ms/step - loss: 0.1030 - acc: 0.9625 - val_loss: 0.6662 - val_acc: 0.8418\n",
      "Epoch 44/50\n",
      "33/33 [==============================] - 13s 409ms/step - loss: 0.1495 - acc: 0.9533 - val_loss: 0.3794 - val_acc: 0.9199\n",
      "Epoch 45/50\n",
      "33/33 [==============================] - 13s 409ms/step - loss: 0.1484 - acc: 0.9596 - val_loss: 0.2565 - val_acc: 0.9551\n",
      "Epoch 46/50\n",
      "33/33 [==============================] - 14s 413ms/step - loss: 0.0903 - acc: 0.9703 - val_loss: 0.4269 - val_acc: 0.9160\n",
      "Epoch 47/50\n",
      "33/33 [==============================] - 14s 413ms/step - loss: 0.2381 - acc: 0.9489 - val_loss: 0.8379 - val_acc: 0.8672\n",
      "Epoch 48/50\n",
      "33/33 [==============================] - 13s 409ms/step - loss: 0.1116 - acc: 0.9547 - val_loss: 1.1024 - val_acc: 0.8633\n",
      "Epoch 49/50\n",
      "33/33 [==============================] - 14s 413ms/step - loss: 0.1722 - acc: 0.9547 - val_loss: 0.6454 - val_acc: 0.9102\n",
      "Epoch 50/50\n",
      "33/33 [==============================] - 13s 408ms/step - loss: 0.1109 - acc: 0.9669 - val_loss: 0.5368 - val_acc: 0.9199\n"
     ]
    }
   ],
   "source": [
    "history = modelo.fit(\n",
    "    generador_entrenamiento,\n",
    "    batch_size = 200,\n",
    "    shuffle=True,\n",
    "    epochs = 50, \n",
    "    verbose = 1,\n",
    "    validation_data=generator_pruebas,\n",
    "    validation_steps=200)"
   ]
  },
  {
   "cell_type": "code",
   "execution_count": 7,
   "metadata": {},
   "outputs": [
    {
     "data": {
      "image/png": "[encoded data removed]",
      "text/plain": [
       "<Figure size 432x288 with 1 Axes>"
      ]
     },
     "metadata": {
      "needs_background": "light"
     },
     "output_type": "display_data"
    },
    {
     "data": {
      "image/png": "[encoded data removed]",
      "text/plain": [
       "<Figure size 432x288 with 1 Axes>"
      ]
     },
     "metadata": {
      "needs_background": "light"
     },
     "output_type": "display_data"
    }
   ],
   "source": [
    "import matplotlib.pyplot as plt\n",
    "\n",
    "plt.plot(history.history['acc'])\n",
    "plt.plot(history.history['val_acc'])\n",
    "plt.title('model accuracy')\n",
    "plt.ylabel('accuracy')\n",
    "plt.xlabel('epoch')\n",
    "plt.legend(['train', 'test'], loc='upper left')\n",
    "plt.ylim([0, 1.1])\n",
    "plt.show()\n",
    "\n",
    "plt.plot(history.history['loss'])\n",
    "plt.plot(history.history['val_loss'])\n",
    "plt.title('model loss')\n",
    "plt.ylabel('loss')\n",
    "plt.xlabel('epoch')\n",
    "plt.legend(['train', 'test'], loc='upper left')\n",
    "plt.ylim([0, 1.1])\n",
    "plt.show()"
   ]
  },
  {
   "cell_type": "code",
   "execution_count": 8,
   "metadata": {},
   "outputs": [
    {
     "name": "stdout",
     "output_type": "stream",
     "text": [
      "Test loss: 0.5367698990739882\n",
      "Test accuracy: 0.9199219\n"
     ]
    }
   ],
   "source": [
    "score = modelo.evaluate_generator (generator_pruebas,verbose=0)\n",
    "print(\"Test loss:\", score[0])\n",
    "print(\"Test accuracy:\", score[1])"
   ]
  },
  {
   "cell_type": "code",
   "execution_count": null,
   "metadata": {},
   "outputs": [],
   "source": []
  }
 ],
 "metadata": {
  "kernelspec": {
   "display_name": "Python 3",
   "language": "python",
   "name": "python3"
  },
  "language_info": {
   "codemirror_mode": {
    "name": "ipython",
    "version": 3
   },
   "file_extension": ".py",
   "mimetype": "text/x-python",
   "name": "python",
   "nbconvert_exporter": "python",
   "pygments_lexer": "ipython3",
   "version": "3.6.10"
  }
 },
 "nbformat": 4,
 "nbformat_minor": 4
}
