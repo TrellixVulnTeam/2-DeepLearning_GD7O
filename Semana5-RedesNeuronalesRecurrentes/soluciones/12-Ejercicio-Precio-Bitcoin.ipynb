{
 "cells": [
  {
   "cell_type": "markdown",
   "metadata": {},
   "source": [
    "# Precios Historicos del Bitcoin en USD\n",
    "\n",
    "Esta semana ud estara utilizando la teoria de RNN para realizar la prediccion del precio del Bitcoin.'\n",
    "Utilice Google Colab para este ejercicio. "
   ]
  },
  {
   "cell_type": "code",
   "execution_count": 1,
   "metadata": {},
   "outputs": [
    {
     "name": "stderr",
     "output_type": "stream",
     "text": [
      "Using TensorFlow backend.\n"
     ]
    }
   ],
   "source": [
    "import warnings\n",
    "warnings.filterwarnings('ignore')\n",
    "\n",
    "import keras \n",
    "import numpy as np\n",
    "import pandas as pd\n",
    "import matplotlib.pyplot as plt"
   ]
  },
  {
   "cell_type": "code",
   "execution_count": 2,
   "metadata": {},
   "outputs": [
    {
     "data": {
      "text/plain": [
       "date\n",
       "2011-12-31    4.482500\n",
       "2012-01-01    4.806667\n",
       "2012-01-02    5.000000\n",
       "2012-01-03    5.252500\n",
       "2012-01-04    5.223333\n",
       "Name: Close, dtype: float64"
      ]
     },
     "execution_count": 2,
     "metadata": {},
     "output_type": "execute_result"
    }
   ],
   "source": [
    "data = pd.read_csv(r'C:\\Users\\XPC\\Desktop\\Datasets\\bitcoin\\bitstampUSD_1-min_data_2012-01-01_to_2020-09-14.csv')\n",
    "data[\"date\"] = pd.to_datetime(data[\"Timestamp\"],unit=\"s\").dt.date\n",
    "grupo = data.groupby(\"date\")\n",
    "data = grupo[\"Close\"].mean()\n",
    "\n",
    "data.head()"
   ]
  },
  {
   "cell_type": "markdown",
   "metadata": {},
   "source": [
    "### Normalizar datos"
   ]
  },
  {
   "cell_type": "code",
   "execution_count": 3,
   "metadata": {
    "scrolled": true
   },
   "outputs": [
    {
     "data": {
      "text/plain": [
       "(3178,)"
      ]
     },
     "execution_count": 3,
     "metadata": {},
     "output_type": "execute_result"
    }
   ],
   "source": [
    "series = []\n",
    "step = 60\n",
    "series = data.values\n",
    "\n",
    "from sklearn.preprocessing import MinMaxScaler\n",
    "scaler = MinMaxScaler(feature_range=(0,1))\n",
    "\n",
    "series = np.array(series)\n",
    "series = series.reshape(series.shape[0],1)\n",
    "series = scaler.fit_transform(series)\n",
    "series = series[:,-1] # flatten\n",
    "\n",
    "series.shape"
   ]
  },
  {
   "cell_type": "markdown",
   "metadata": {},
   "source": [
    "### Conversion de los datos en tensor 3D de 60 steps c/u"
   ]
  },
  {
   "cell_type": "code",
   "execution_count": 4,
   "metadata": {},
   "outputs": [
    {
     "data": {
      "text/plain": [
       "(3058, 60, 1)"
      ]
     },
     "execution_count": 4,
     "metadata": {},
     "output_type": "execute_result"
    }
   ],
   "source": [
    "# crear list unica de tamano step\n",
    "\n",
    "series_50 = []\n",
    "\n",
    "for i in range(step, series.shape[0] - step): # (50 a 3128), ojo que inicia en index 50\n",
    "    series_50.append(series[i-step:i]) # series de 50 moviendose 1\n",
    "    \n",
    "series_50 = np.array(series_50)\n",
    "series_50 = series_50[..., np.newaxis].astype(np.float32)\n",
    "\n",
    "series_50.shape"
   ]
  },
  {
   "cell_type": "markdown",
   "metadata": {},
   "source": [
    "### Crear Train-Test Set"
   ]
  },
  {
   "cell_type": "code",
   "execution_count": 5,
   "metadata": {},
   "outputs": [
    {
     "name": "stdout",
     "output_type": "stream",
     "text": [
      "(2800, 50, 1) (2800, 10)\n",
      "(258, 50, 1) (258, 10)\n"
     ]
    }
   ],
   "source": [
    "n_steps = 50\n",
    "x_train, y_train = series_50[:2800, :n_steps], series_50[:2800, -10:, 0]\n",
    "x_test, y_test = series_50[2800:, :n_steps], series_50[2800:, -10:, 0]\n",
    "\n",
    "print(x_train.shape, y_train.shape)\n",
    "print(x_test.shape, y_test.shape)"
   ]
  },
  {
   "cell_type": "code",
   "execution_count": 1,
   "metadata": {},
   "outputs": [
    {
     "ename": "NameError",
     "evalue": "name 'plt' is not defined",
     "output_type": "error",
     "traceback": [
      "\u001b[1;31m---------------------------------------------------------------------------\u001b[0m",
      "\u001b[1;31mNameError\u001b[0m                                 Traceback (most recent call last)",
      "\u001b[1;32m<ipython-input-1-16176c12b202>\u001b[0m in \u001b[0;36m<module>\u001b[1;34m()\u001b[0m\n\u001b[0;32m     11\u001b[0m         \u001b[0mplt\u001b[0m\u001b[1;33m.\u001b[0m\u001b[0mylabel\u001b[0m\u001b[1;33m(\u001b[0m\u001b[0my_label\u001b[0m\u001b[1;33m,\u001b[0m \u001b[0mfontsize\u001b[0m\u001b[1;33m=\u001b[0m\u001b[1;36m16\u001b[0m\u001b[1;33m,\u001b[0m \u001b[0mrotation\u001b[0m\u001b[1;33m=\u001b[0m\u001b[1;36m0\u001b[0m\u001b[1;33m)\u001b[0m\u001b[1;33m\u001b[0m\u001b[1;33m\u001b[0m\u001b[0m\n\u001b[0;32m     12\u001b[0m \u001b[1;33m\u001b[0m\u001b[0m\n\u001b[1;32m---> 13\u001b[1;33m \u001b[0mfig\u001b[0m\u001b[1;33m,\u001b[0m \u001b[0maxes\u001b[0m \u001b[1;33m=\u001b[0m \u001b[0mplt\u001b[0m\u001b[1;33m.\u001b[0m\u001b[0msubplots\u001b[0m\u001b[1;33m(\u001b[0m\u001b[0mnrows\u001b[0m\u001b[1;33m=\u001b[0m\u001b[1;36m1\u001b[0m\u001b[1;33m,\u001b[0m \u001b[0mncols\u001b[0m\u001b[1;33m=\u001b[0m\u001b[1;36m3\u001b[0m\u001b[1;33m,\u001b[0m \u001b[0msharey\u001b[0m\u001b[1;33m=\u001b[0m\u001b[1;32mTrue\u001b[0m\u001b[1;33m,\u001b[0m \u001b[0mfigsize\u001b[0m\u001b[1;33m=\u001b[0m\u001b[1;33m(\u001b[0m\u001b[1;36m12\u001b[0m\u001b[1;33m,\u001b[0m \u001b[1;36m4\u001b[0m\u001b[1;33m)\u001b[0m\u001b[1;33m)\u001b[0m\u001b[1;33m\u001b[0m\u001b[1;33m\u001b[0m\u001b[0m\n\u001b[0m\u001b[0;32m     14\u001b[0m \u001b[1;32mfor\u001b[0m \u001b[0mcol\u001b[0m \u001b[1;32min\u001b[0m \u001b[0mrange\u001b[0m\u001b[1;33m(\u001b[0m\u001b[1;36m3\u001b[0m\u001b[1;33m)\u001b[0m\u001b[1;33m:\u001b[0m\u001b[1;33m\u001b[0m\u001b[1;33m\u001b[0m\u001b[0m\n\u001b[0;32m     15\u001b[0m     \u001b[0mplt\u001b[0m\u001b[1;33m.\u001b[0m\u001b[0msca\u001b[0m\u001b[1;33m(\u001b[0m\u001b[0maxes\u001b[0m\u001b[1;33m[\u001b[0m\u001b[0mcol\u001b[0m\u001b[1;33m]\u001b[0m\u001b[1;33m)\u001b[0m\u001b[1;33m\u001b[0m\u001b[1;33m\u001b[0m\u001b[0m\n",
      "\u001b[1;31mNameError\u001b[0m: name 'plt' is not defined"
     ]
    }
   ],
   "source": [
    "def plot_series(series, y=None, y_pred=None, x_label=\"$t$\", y_label=\"$x(t)$\"):\n",
    "    plt.plot(series, \".-\")\n",
    "    if y is not None:\n",
    "        plt.plot(n_steps, y, \"bx\", markersize=10)\n",
    "    if y_pred is not None:\n",
    "        plt.plot(n_steps, y_pred, \"ro\")\n",
    "    plt.grid(True)\n",
    "    if x_label:\n",
    "        plt.xlabel(x_label, fontsize=16)\n",
    "    if y_label:\n",
    "        plt.ylabel(y_label, fontsize=16, rotation=0)\n",
    "\n",
    "fig, axes = plt.subplots(nrows=1, ncols=3, sharey=True, figsize=(12, 4))\n",
    "for col in range(3):\n",
    "    plt.sca(axes[col])\n",
    "    plot_series(x_train[col, :, 0], y_train[col, 0],\n",
    "                y_label=(\"\" if col==0 else None))\n",
    "plt.show()"
   ]
  },
  {
   "cell_type": "markdown",
   "metadata": {},
   "source": [
    "### Entrenar el Modelo"
   ]
  },
  {
   "cell_type": "code",
   "execution_count": 7,
   "metadata": {},
   "outputs": [
    {
     "name": "stdout",
     "output_type": "stream",
     "text": [
      "WARNING:tensorflow:From C:\\Users\\XPC\\anaconda3\\envs\\py36\\lib\\site-packages\\keras\\backend\\tensorflow_backend.py:422: The name tf.global_variables is deprecated. Please use tf.compat.v1.global_variables instead.\n",
      "\n",
      "Train on 2800 samples, validate on 258 samples\n",
      "Epoch 1/20\n",
      "2800/2800 [==============================] - 3s 1ms/step - loss: 0.0060 - val_loss: 0.0024\n",
      "Epoch 2/20\n",
      "2800/2800 [==============================] - 3s 999us/step - loss: 0.0014 - val_loss: 0.0021\n",
      "Epoch 3/20\n",
      "2800/2800 [==============================] - 3s 999us/step - loss: 0.0013 - val_loss: 0.0037\n",
      "Epoch 4/20\n",
      "2800/2800 [==============================] - 3s 1ms/step - loss: 0.0012 - val_loss: 0.0018\n",
      "Epoch 5/20\n",
      "2800/2800 [==============================] - 3s 999us/step - loss: 0.0012 - val_loss: 0.0018\n",
      "Epoch 6/20\n",
      "2800/2800 [==============================] - 3s 1ms/step - loss: 0.0011 - val_loss: 0.0016\n",
      "Epoch 7/20\n",
      "2800/2800 [==============================] - 3s 999us/step - loss: 0.0011 - val_loss: 0.0019\n",
      "Epoch 8/20\n",
      "2800/2800 [==============================] - 3s 995us/step - loss: 9.4532e-04 - val_loss: 0.0015\n",
      "Epoch 9/20\n",
      "2800/2800 [==============================] - 3s 1000us/step - loss: 9.8378e-04 - val_loss: 0.0035\n",
      "Epoch 10/20\n",
      "2800/2800 [==============================] - 3s 995us/step - loss: 0.0010 - val_loss: 0.0016\n",
      "Epoch 11/20\n",
      "2800/2800 [==============================] - 3s 1ms/step - loss: 0.0011 - val_loss: 0.0016\n",
      "Epoch 12/20\n",
      "2800/2800 [==============================] - 3s 988us/step - loss: 8.6802e-04 - val_loss: 0.0017\n",
      "Epoch 13/20\n",
      "2800/2800 [==============================] - 3s 998us/step - loss: 8.6350e-04 - val_loss: 0.0019\n",
      "Epoch 14/20\n",
      "2800/2800 [==============================] - 3s 998us/step - loss: 8.5102e-04 - val_loss: 0.0014\n",
      "Epoch 15/20\n",
      "2800/2800 [==============================] - 3s 996us/step - loss: 9.5427e-04 - val_loss: 0.0018\n",
      "Epoch 16/20\n",
      "2800/2800 [==============================] - 3s 988us/step - loss: 8.3086e-04 - val_loss: 0.0015\n",
      "Epoch 17/20\n",
      "2800/2800 [==============================] - 3s 1ms/step - loss: 7.9636e-04 - val_loss: 0.0015\n",
      "Epoch 18/20\n",
      "2800/2800 [==============================] - 3s 999us/step - loss: 7.4167e-04 - val_loss: 0.0024\n",
      "Epoch 19/20\n",
      "2800/2800 [==============================] - 3s 1ms/step - loss: 7.4220e-04 - val_loss: 0.0017\n",
      "Epoch 20/20\n",
      "2800/2800 [==============================] - 3s 1ms/step - loss: 7.8916e-04 - val_loss: 0.0019\n"
     ]
    }
   ],
   "source": [
    "np.random.seed(42)\n",
    "\n",
    "model = keras.models.Sequential([\n",
    "    keras.layers.LSTM(70, return_sequences=True, input_shape=[None, 1]),\n",
    "    keras.layers.LSTM(70),\n",
    "    keras.layers.Dense(10)\n",
    "])\n",
    "\n",
    "model.compile(loss=\"mse\", optimizer=\"adam\")\n",
    "history = model.fit(x_train, y_train, epochs=20,\n",
    "                    validation_data=(x_test, y_test))"
   ]
  },
  {
   "cell_type": "markdown",
   "metadata": {},
   "source": [
    "### Curvas de Aprendizaje"
   ]
  },
  {
   "cell_type": "code",
   "execution_count": 8,
   "metadata": {},
   "outputs": [
    {
     "data": {
      "image/png": "[encoded data removed]",
      "text/plain": [
       "<Figure size 432x288 with 1 Axes>"
      ]
     },
     "metadata": {
      "needs_background": "light"
     },
     "output_type": "display_data"
    }
   ],
   "source": [
    "import matplotlib as mpl\n",
    "\n",
    "def plot_learning_curves(loss, val_loss):\n",
    "    plt.plot(np.arange(len(loss)) + 0.5, loss, \"b.-\", label=\"Training loss\")\n",
    "    plt.plot(np.arange(len(val_loss)) + 1, val_loss, \"r.-\", label=\"Validation loss\")\n",
    "    plt.gca().xaxis.set_major_locator(mpl.ticker.MaxNLocator(integer=True))\n",
    "    plt.axis([1, 20, 0, 0.05])\n",
    "    plt.legend(fontsize=14)\n",
    "    plt.xlabel(\"Epochs\")\n",
    "    plt.ylabel(\"Loss\")\n",
    "    plt.grid(True)\n",
    "\n",
    "plot_learning_curves(history.history[\"loss\"], history.history[\"val_loss\"])\n",
    "plt.show()"
   ]
  },
  {
   "cell_type": "code",
   "execution_count": 9,
   "metadata": {},
   "outputs": [],
   "source": [
    "y_pred = model.predict(x_test)[..., np.newaxis]"
   ]
  },
  {
   "cell_type": "code",
   "execution_count": 10,
   "metadata": {},
   "outputs": [
    {
     "data": {
      "image/png": "[encoded data removed]",
      "text/plain": [
       "<Figure size 432x288 with 1 Axes>"
      ]
     },
     "metadata": {
      "needs_background": "light"
     },
     "output_type": "display_data"
    }
   ],
   "source": [
    "def plot_multiple_forecasts(X, Y, Y_pred):\n",
    "    n_steps = X.shape[1]\n",
    "    ahead = Y.shape[1]\n",
    "    plot_series(X[0, :, 0])\n",
    "    plt.plot(np.arange(n_steps, n_steps + ahead), Y[0, :, 0], \"ro-\", label=\"Actual\")\n",
    "    plt.plot(np.arange(n_steps, n_steps + ahead), Y_pred[0, :, 0], \"bx-\", label=\"Forecast\", markersize=10)\n",
    "    plt.legend(fontsize=14)\n",
    "\n",
    "plot_multiple_forecasts(x_test, y_test[..., np.newaxis], y_pred)\n",
    "plt.show()"
   ]
  },
  {
   "cell_type": "code",
   "execution_count": null,
   "metadata": {},
   "outputs": [],
   "source": []
  }
 ],
 "metadata": {
  "kernelspec": {
   "display_name": "Python 3",
   "language": "python",
   "name": "python3"
  },
  "language_info": {
   "codemirror_mode": {
    "name": "ipython",
    "version": 3
   },
   "file_extension": ".py",
   "mimetype": "text/x-python",
   "name": "python",
   "nbconvert_exporter": "python",
   "pygments_lexer": "ipython3",
   "version": "3.6.12"
  }
 },
 "nbformat": 4,
 "nbformat_minor": 4
}
