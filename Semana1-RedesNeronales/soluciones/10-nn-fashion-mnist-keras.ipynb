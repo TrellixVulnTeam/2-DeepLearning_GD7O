{
 "cells": [
  {
   "cell_type": "code",
   "execution_count": 1,
   "metadata": {},
   "outputs": [
    {
     "name": "stderr",
     "output_type": "stream",
     "text": [
      "C:\\Users\\XPC\\anaconda3\\envs\\py36\\lib\\site-packages\\tensorflow\\python\\framework\\dtypes.py:516: FutureWarning: Passing (type, 1) or '1type' as a synonym of type is deprecated; in a future version of numpy, it will be understood as (type, (1,)) / '(1,)type'.\n",
      "  _np_qint8 = np.dtype([(\"qint8\", np.int8, 1)])\n",
      "C:\\Users\\XPC\\anaconda3\\envs\\py36\\lib\\site-packages\\tensorflow\\python\\framework\\dtypes.py:517: FutureWarning: Passing (type, 1) or '1type' as a synonym of type is deprecated; in a future version of numpy, it will be understood as (type, (1,)) / '(1,)type'.\n",
      "  _np_quint8 = np.dtype([(\"quint8\", np.uint8, 1)])\n",
      "C:\\Users\\XPC\\anaconda3\\envs\\py36\\lib\\site-packages\\tensorflow\\python\\framework\\dtypes.py:518: FutureWarning: Passing (type, 1) or '1type' as a synonym of type is deprecated; in a future version of numpy, it will be understood as (type, (1,)) / '(1,)type'.\n",
      "  _np_qint16 = np.dtype([(\"qint16\", np.int16, 1)])\n",
      "C:\\Users\\XPC\\anaconda3\\envs\\py36\\lib\\site-packages\\tensorflow\\python\\framework\\dtypes.py:519: FutureWarning: Passing (type, 1) or '1type' as a synonym of type is deprecated; in a future version of numpy, it will be understood as (type, (1,)) / '(1,)type'.\n",
      "  _np_quint16 = np.dtype([(\"quint16\", np.uint16, 1)])\n",
      "C:\\Users\\XPC\\anaconda3\\envs\\py36\\lib\\site-packages\\tensorflow\\python\\framework\\dtypes.py:520: FutureWarning: Passing (type, 1) or '1type' as a synonym of type is deprecated; in a future version of numpy, it will be understood as (type, (1,)) / '(1,)type'.\n",
      "  _np_qint32 = np.dtype([(\"qint32\", np.int32, 1)])\n",
      "C:\\Users\\XPC\\anaconda3\\envs\\py36\\lib\\site-packages\\tensorflow\\python\\framework\\dtypes.py:525: FutureWarning: Passing (type, 1) or '1type' as a synonym of type is deprecated; in a future version of numpy, it will be understood as (type, (1,)) / '(1,)type'.\n",
      "  np_resource = np.dtype([(\"resource\", np.ubyte, 1)])\n",
      "C:\\Users\\XPC\\anaconda3\\envs\\py36\\lib\\site-packages\\tensorboard\\compat\\tensorflow_stub\\dtypes.py:541: FutureWarning: Passing (type, 1) or '1type' as a synonym of type is deprecated; in a future version of numpy, it will be understood as (type, (1,)) / '(1,)type'.\n",
      "  _np_qint8 = np.dtype([(\"qint8\", np.int8, 1)])\n",
      "C:\\Users\\XPC\\anaconda3\\envs\\py36\\lib\\site-packages\\tensorboard\\compat\\tensorflow_stub\\dtypes.py:542: FutureWarning: Passing (type, 1) or '1type' as a synonym of type is deprecated; in a future version of numpy, it will be understood as (type, (1,)) / '(1,)type'.\n",
      "  _np_quint8 = np.dtype([(\"quint8\", np.uint8, 1)])\n",
      "C:\\Users\\XPC\\anaconda3\\envs\\py36\\lib\\site-packages\\tensorboard\\compat\\tensorflow_stub\\dtypes.py:543: FutureWarning: Passing (type, 1) or '1type' as a synonym of type is deprecated; in a future version of numpy, it will be understood as (type, (1,)) / '(1,)type'.\n",
      "  _np_qint16 = np.dtype([(\"qint16\", np.int16, 1)])\n",
      "C:\\Users\\XPC\\anaconda3\\envs\\py36\\lib\\site-packages\\tensorboard\\compat\\tensorflow_stub\\dtypes.py:544: FutureWarning: Passing (type, 1) or '1type' as a synonym of type is deprecated; in a future version of numpy, it will be understood as (type, (1,)) / '(1,)type'.\n",
      "  _np_quint16 = np.dtype([(\"quint16\", np.uint16, 1)])\n",
      "C:\\Users\\XPC\\anaconda3\\envs\\py36\\lib\\site-packages\\tensorboard\\compat\\tensorflow_stub\\dtypes.py:545: FutureWarning: Passing (type, 1) or '1type' as a synonym of type is deprecated; in a future version of numpy, it will be understood as (type, (1,)) / '(1,)type'.\n",
      "  _np_qint32 = np.dtype([(\"qint32\", np.int32, 1)])\n",
      "C:\\Users\\XPC\\anaconda3\\envs\\py36\\lib\\site-packages\\tensorboard\\compat\\tensorflow_stub\\dtypes.py:550: FutureWarning: Passing (type, 1) or '1type' as a synonym of type is deprecated; in a future version of numpy, it will be understood as (type, (1,)) / '(1,)type'.\n",
      "  np_resource = np.dtype([(\"resource\", np.ubyte, 1)])\n"
     ]
    }
   ],
   "source": [
    "import numpy as np\n",
    "from tensorflow import keras\n",
    "from tensorflow.keras import layers\n",
    "from tensorflow.keras.models import Sequential\n",
    "from tensorflow.keras.layers import Dense"
   ]
  },
  {
   "cell_type": "markdown",
   "metadata": {},
   "source": [
    "## Cargar Datos"
   ]
  },
  {
   "cell_type": "code",
   "execution_count": 2,
   "metadata": {},
   "outputs": [
    {
     "data": {
      "image/png": "[encoded data removed]",
      "text/plain": [
       "<Figure size 432x288 with 1 Axes>"
      ]
     },
     "metadata": {
      "needs_background": "light"
     },
     "output_type": "display_data"
    }
   ],
   "source": [
    "# Descargar el mnist de Keras\n",
    "(x_train, y_train), (x_test, y_test) = keras.datasets.fashion_mnist.load_data()\n",
    "\n",
    "# Imprimir un sample\n",
    "import matplotlib.pyplot as plt\n",
    "plt.imshow(x_test[89], cmap='Greys')\n",
    "plt.show()"
   ]
  },
  {
   "cell_type": "markdown",
   "metadata": {},
   "source": [
    "## Normalizar Imagenes"
   ]
  },
  {
   "cell_type": "code",
   "execution_count": 3,
   "metadata": {},
   "outputs": [
    {
     "data": {
      "text/plain": [
       "(60000, 28, 28)"
      ]
     },
     "execution_count": 3,
     "metadata": {},
     "output_type": "execute_result"
    }
   ],
   "source": [
    "# Scaling para que las imagenes queden de [0,1]\n",
    "x_train = x_train.astype(\"float32\") / 255\n",
    "x_test = x_test.astype(\"float32\") / 255\n",
    "\n",
    "x_train.shape"
   ]
  },
  {
   "cell_type": "code",
   "execution_count": 4,
   "metadata": {},
   "outputs": [
    {
     "data": {
      "text/plain": [
       "(60000, 28, 28, 1)"
      ]
     },
     "execution_count": 4,
     "metadata": {},
     "output_type": "execute_result"
    }
   ],
   "source": [
    "# Convertir las imagenes en (28, 28, 1)\n",
    "x_train = np.expand_dims(x_train, -1)\n",
    "x_test = np.expand_dims(x_test, -1)\n",
    "\n",
    "x_train.shape"
   ]
  },
  {
   "cell_type": "markdown",
   "metadata": {},
   "source": [
    "## Etiquetas como Categoricos"
   ]
  },
  {
   "cell_type": "code",
   "execution_count": 5,
   "metadata": {},
   "outputs": [],
   "source": [
    "# Numero de clases\n",
    "num_classes = 10\n",
    "\n",
    "# generar las etiquetas\n",
    "y_train = keras.utils.to_categorical(y_train, num_classes)\n",
    "y_test = keras.utils.to_categorical(y_test, num_classes)"
   ]
  },
  {
   "cell_type": "markdown",
   "metadata": {},
   "source": [
    "## Arquitetura Perceptron"
   ]
  },
  {
   "cell_type": "code",
   "execution_count": 6,
   "metadata": {},
   "outputs": [
    {
     "name": "stdout",
     "output_type": "stream",
     "text": [
      "WARNING:tensorflow:From C:\\Users\\XPC\\anaconda3\\envs\\py36\\lib\\site-packages\\tensorflow\\python\\ops\\init_ops.py:1251: calling VarianceScaling.__init__ (from tensorflow.python.ops.init_ops) with dtype is deprecated and will be removed in a future version.\n",
      "Instructions for updating:\n",
      "Call initializer instance with the dtype argument instead of passing it to the constructor\n",
      "Model: \"sequential\"\n",
      "_________________________________________________________________\n",
      "Layer (type)                 Output Shape              Param #   \n",
      "=================================================================\n",
      "flatten (Flatten)            (None, 784)               0         \n",
      "_________________________________________________________________\n",
      "dense (Dense)                (None, 200)               157000    \n",
      "_________________________________________________________________\n",
      "dense_1 (Dense)              (None, 1024)              205824    \n",
      "_________________________________________________________________\n",
      "dense_2 (Dense)              (None, 512)               524800    \n",
      "_________________________________________________________________\n",
      "dense_3 (Dense)              (None, 10)                5130      \n",
      "=================================================================\n",
      "Total params: 892,754\n",
      "Trainable params: 892,754\n",
      "Non-trainable params: 0\n",
      "_________________________________________________________________\n"
     ]
    }
   ],
   "source": [
    "# tamano de la imagen de entrada\n",
    "input_shape = (28, 28, 1)\n",
    "\n",
    "# definicion del modelo Perceptron\n",
    "model = keras.Sequential(\n",
    "    [\n",
    "        keras.Input(shape=input_shape),\n",
    "        layers.Flatten(),\n",
    "        layers.Dense(200, activation=\"relu\"),\n",
    "        layers.Dense(1024, activation=\"relu\"),\n",
    "        layers.Dense(512, activation=\"relu\"),\n",
    "        layers.Dense(num_classes, activation=\"softmax\"),\n",
    "    ]\n",
    ")\n",
    "\n",
    "# Construir el modelo y ver la arquitectura\n",
    "model.build(input_shape)\n",
    "model.summary()"
   ]
  },
  {
   "cell_type": "markdown",
   "metadata": {},
   "source": [
    "## Entrenar la Red Neuronal"
   ]
  },
  {
   "cell_type": "code",
   "execution_count": 7,
   "metadata": {},
   "outputs": [
    {
     "name": "stdout",
     "output_type": "stream",
     "text": [
      "Train on 48000 samples, validate on 12000 samples\n",
      "Epoch 1/50\n",
      "48000/48000 [==============================] - 1s 13us/sample - loss: 0.5456 - acc: 0.8061 - val_loss: 0.4161 - val_acc: 0.8468\n",
      "Epoch 2/50\n",
      "48000/48000 [==============================] - 0s 8us/sample - loss: 0.3763 - acc: 0.8619 - val_loss: 0.3749 - val_acc: 0.8653\n",
      "Epoch 3/50\n",
      "48000/48000 [==============================] - 0s 8us/sample - loss: 0.3264 - acc: 0.8792 - val_loss: 0.3534 - val_acc: 0.8727\n",
      "Epoch 4/50\n",
      "48000/48000 [==============================] - 0s 8us/sample - loss: 0.2989 - acc: 0.8891 - val_loss: 0.3293 - val_acc: 0.8808\n",
      "Epoch 5/50\n",
      "48000/48000 [==============================] - 0s 8us/sample - loss: 0.2820 - acc: 0.8943 - val_loss: 0.3260 - val_acc: 0.8816\n",
      "Epoch 6/50\n",
      "48000/48000 [==============================] - 0s 8us/sample - loss: 0.2643 - acc: 0.9008 - val_loss: 0.3313 - val_acc: 0.8838\n",
      "Epoch 7/50\n",
      "48000/48000 [==============================] - 0s 8us/sample - loss: 0.2472 - acc: 0.9070 - val_loss: 0.3255 - val_acc: 0.8857\n",
      "Epoch 8/50\n",
      "48000/48000 [==============================] - 0s 8us/sample - loss: 0.2343 - acc: 0.9112 - val_loss: 0.3386 - val_acc: 0.8792\n",
      "Epoch 9/50\n",
      "48000/48000 [==============================] - 0s 8us/sample - loss: 0.2239 - acc: 0.9137 - val_loss: 0.3115 - val_acc: 0.8907\n",
      "Epoch 10/50\n",
      "48000/48000 [==============================] - 0s 8us/sample - loss: 0.2117 - acc: 0.9187 - val_loss: 0.3397 - val_acc: 0.8831\n",
      "Epoch 11/50\n",
      "48000/48000 [==============================] - 0s 8us/sample - loss: 0.2095 - acc: 0.9204 - val_loss: 0.3328 - val_acc: 0.8870\n",
      "Epoch 12/50\n",
      "48000/48000 [==============================] - 0s 8us/sample - loss: 0.1988 - acc: 0.9254 - val_loss: 0.3204 - val_acc: 0.8897\n",
      "Epoch 13/50\n",
      "48000/48000 [==============================] - 0s 8us/sample - loss: 0.1840 - acc: 0.9298 - val_loss: 0.3322 - val_acc: 0.8862\n",
      "Epoch 14/50\n",
      "48000/48000 [==============================] - 0s 8us/sample - loss: 0.1752 - acc: 0.9330 - val_loss: 0.3280 - val_acc: 0.8911\n",
      "Epoch 15/50\n",
      "48000/48000 [==============================] - 0s 8us/sample - loss: 0.1682 - acc: 0.9350 - val_loss: 0.3330 - val_acc: 0.8917\n",
      "Epoch 16/50\n",
      "48000/48000 [==============================] - 0s 8us/sample - loss: 0.1615 - acc: 0.9374 - val_loss: 0.3482 - val_acc: 0.8907\n",
      "Epoch 17/50\n",
      "48000/48000 [==============================] - 0s 8us/sample - loss: 0.1561 - acc: 0.9408 - val_loss: 0.3449 - val_acc: 0.8902\n",
      "Epoch 18/50\n",
      "48000/48000 [==============================] - 0s 8us/sample - loss: 0.1475 - acc: 0.9436 - val_loss: 0.3656 - val_acc: 0.8910\n",
      "Epoch 19/50\n",
      "48000/48000 [==============================] - 0s 8us/sample - loss: 0.1390 - acc: 0.9470 - val_loss: 0.3720 - val_acc: 0.8920\n",
      "Epoch 20/50\n",
      "48000/48000 [==============================] - 0s 8us/sample - loss: 0.1347 - acc: 0.9478 - val_loss: 0.3558 - val_acc: 0.9007\n",
      "Epoch 21/50\n",
      "48000/48000 [==============================] - 0s 8us/sample - loss: 0.1278 - acc: 0.9507 - val_loss: 0.3956 - val_acc: 0.8938\n",
      "Epoch 22/50\n",
      "48000/48000 [==============================] - 0s 8us/sample - loss: 0.1229 - acc: 0.9528 - val_loss: 0.3939 - val_acc: 0.8953\n",
      "Epoch 23/50\n",
      "48000/48000 [==============================] - 0s 8us/sample - loss: 0.1212 - acc: 0.9531 - val_loss: 0.3714 - val_acc: 0.8981\n",
      "Epoch 24/50\n",
      "48000/48000 [==============================] - 0s 8us/sample - loss: 0.1160 - acc: 0.9549 - val_loss: 0.3881 - val_acc: 0.8974\n",
      "Epoch 25/50\n",
      "48000/48000 [==============================] - 0s 8us/sample - loss: 0.1093 - acc: 0.9573 - val_loss: 0.4321 - val_acc: 0.8894\n",
      "Epoch 26/50\n",
      "48000/48000 [==============================] - 0s 8us/sample - loss: 0.1095 - acc: 0.9573 - val_loss: 0.4582 - val_acc: 0.8938\n",
      "Epoch 27/50\n",
      "48000/48000 [==============================] - 0s 8us/sample - loss: 0.1073 - acc: 0.9592 - val_loss: 0.3912 - val_acc: 0.8963\n",
      "Epoch 28/50\n",
      "48000/48000 [==============================] - 0s 8us/sample - loss: 0.0987 - acc: 0.9621 - val_loss: 0.4376 - val_acc: 0.8970\n",
      "Epoch 29/50\n",
      "48000/48000 [==============================] - 0s 8us/sample - loss: 0.0938 - acc: 0.9630 - val_loss: 0.4335 - val_acc: 0.8947\n",
      "Epoch 30/50\n",
      "48000/48000 [==============================] - 0s 8us/sample - loss: 0.0935 - acc: 0.9642 - val_loss: 0.4489 - val_acc: 0.8956\n",
      "Epoch 31/50\n",
      "48000/48000 [==============================] - 0s 8us/sample - loss: 0.0840 - acc: 0.9666 - val_loss: 0.4632 - val_acc: 0.8877\n",
      "Epoch 32/50\n",
      "48000/48000 [==============================] - 0s 8us/sample - loss: 0.0782 - acc: 0.9701 - val_loss: 0.4730 - val_acc: 0.8983\n",
      "Epoch 33/50\n",
      "48000/48000 [==============================] - 0s 8us/sample - loss: 0.0780 - acc: 0.9698 - val_loss: 0.4612 - val_acc: 0.8951\n",
      "Epoch 34/50\n",
      "48000/48000 [==============================] - 0s 8us/sample - loss: 0.0713 - acc: 0.9726 - val_loss: 0.4783 - val_acc: 0.8913\n",
      "Epoch 35/50\n",
      "48000/48000 [==============================] - 0s 8us/sample - loss: 0.0796 - acc: 0.9691 - val_loss: 0.4905 - val_acc: 0.8947\n",
      "Epoch 36/50\n",
      "48000/48000 [==============================] - 0s 8us/sample - loss: 0.0649 - acc: 0.9753 - val_loss: 0.5288 - val_acc: 0.8930\n",
      "Epoch 37/50\n",
      "48000/48000 [==============================] - 0s 8us/sample - loss: 0.0667 - acc: 0.9743 - val_loss: 0.5280 - val_acc: 0.8963\n",
      "Epoch 38/50\n",
      "48000/48000 [==============================] - 0s 8us/sample - loss: 0.0615 - acc: 0.9767 - val_loss: 0.5632 - val_acc: 0.8955\n",
      "Epoch 39/50\n",
      "48000/48000 [==============================] - 0s 8us/sample - loss: 0.0766 - acc: 0.9711 - val_loss: 0.4954 - val_acc: 0.8939\n",
      "Epoch 40/50\n",
      "48000/48000 [==============================] - 0s 8us/sample - loss: 0.0638 - acc: 0.9763 - val_loss: 0.5372 - val_acc: 0.8974\n",
      "Epoch 41/50\n",
      "48000/48000 [==============================] - 0s 8us/sample - loss: 0.0601 - acc: 0.9766 - val_loss: 0.5766 - val_acc: 0.8960\n",
      "Epoch 42/50\n",
      "48000/48000 [==============================] - 0s 8us/sample - loss: 0.0537 - acc: 0.9796 - val_loss: 0.5408 - val_acc: 0.8950\n",
      "Epoch 43/50\n",
      "48000/48000 [==============================] - 0s 8us/sample - loss: 0.0504 - acc: 0.9808 - val_loss: 0.5588 - val_acc: 0.9000\n",
      "Epoch 44/50\n",
      "48000/48000 [==============================] - 0s 8us/sample - loss: 0.0506 - acc: 0.9803 - val_loss: 0.5798 - val_acc: 0.8926\n",
      "Epoch 45/50\n",
      "48000/48000 [==============================] - 0s 8us/sample - loss: 0.0539 - acc: 0.9794 - val_loss: 0.6013 - val_acc: 0.8892\n",
      "Epoch 46/50\n",
      "48000/48000 [==============================] - 0s 8us/sample - loss: 0.0528 - acc: 0.9802 - val_loss: 0.6067 - val_acc: 0.8941\n",
      "Epoch 47/50\n",
      "48000/48000 [==============================] - 0s 8us/sample - loss: 0.0421 - acc: 0.9841 - val_loss: 0.6114 - val_acc: 0.8941\n",
      "Epoch 48/50\n",
      "48000/48000 [==============================] - 0s 8us/sample - loss: 0.0459 - acc: 0.9830 - val_loss: 0.6092 - val_acc: 0.8988\n",
      "Epoch 49/50\n",
      "48000/48000 [==============================] - 0s 8us/sample - loss: 0.0422 - acc: 0.9844 - val_loss: 0.6352 - val_acc: 0.8895\n",
      "Epoch 50/50\n",
      "48000/48000 [==============================] - 0s 8us/sample - loss: 0.0405 - acc: 0.9847 - val_loss: 0.6254 - val_acc: 0.8920\n"
     ]
    }
   ],
   "source": [
    "# Definir los parametros de optimizacion y perdida del modelo (con CrossValidation)\n",
    "model.compile(loss='categorical_crossentropy', optimizer='adam', metrics=['accuracy'])\n",
    "# ejecutar training\n",
    "history = model.fit(x_train, y_train, epochs=50, batch_size=250, verbose=1, validation_split=0.2)"
   ]
  },
  {
   "cell_type": "code",
   "execution_count": 8,
   "metadata": {},
   "outputs": [
    {
     "data": {
      "image/png": "[encoded data removed]",
      "text/plain": [
       "<Figure size 432x288 with 1 Axes>"
      ]
     },
     "metadata": {
      "needs_background": "light"
     },
     "output_type": "display_data"
    },
    {
     "data": {
      "image/png": "[encoded data removed]",
      "text/plain": [
       "<Figure size 432x288 with 1 Axes>"
      ]
     },
     "metadata": {
      "needs_background": "light"
     },
     "output_type": "display_data"
    }
   ],
   "source": [
    "import matplotlib.pyplot as plt\n",
    "\n",
    "plt.plot(history.history['acc'])\n",
    "plt.plot(history.history['val_acc'])\n",
    "plt.title('model accuracy')\n",
    "plt.ylabel('accuracy')\n",
    "plt.xlabel('epoch')\n",
    "plt.legend(['train', 'test'], loc='upper left')\n",
    "plt.ylim([0, 1.1])\n",
    "plt.show()\n",
    "\n",
    "\n",
    "plt.plot(history.history['loss'])\n",
    "plt.plot(history.history['val_loss'])\n",
    "plt.title('model loss')\n",
    "plt.ylabel('loss')\n",
    "plt.xlabel('epoch')\n",
    "plt.legend(['train', 'test'], loc='upper left')\n",
    "plt.ylim([0, 1.1])\n",
    "plt.show()"
   ]
  },
  {
   "cell_type": "markdown",
   "metadata": {},
   "source": [
    "## Evaluar el Modelo"
   ]
  },
  {
   "cell_type": "code",
   "execution_count": 9,
   "metadata": {},
   "outputs": [
    {
     "name": "stdout",
     "output_type": "stream",
     "text": [
      "10000/10000 [==============================] - 0s 23us/sample - loss: 0.6770 - acc: 0.8898\n",
      "Test loss: 0.6770201461190358\n",
      "Test accuracy: 0.8898\n"
     ]
    }
   ],
   "source": [
    "# Obtener el score obtenido del modelo\n",
    "score = model.evaluate(x_test, y_test, verbose=1)\n",
    "print(\"Test loss:\", score[0])\n",
    "print(\"Test accuracy:\", score[1])"
   ]
  },
  {
   "cell_type": "markdown",
   "metadata": {},
   "source": [
    "## Predecir una Imagen"
   ]
  },
  {
   "cell_type": "code",
   "execution_count": 10,
   "metadata": {},
   "outputs": [
    {
     "data": {
      "image/png": "[encoded data removed]",
      "text/plain": [
       "<Figure size 432x288 with 1 Axes>"
      ]
     },
     "metadata": {
      "needs_background": "light"
     },
     "output_type": "display_data"
    },
    {
     "name": "stdout",
     "output_type": "stream",
     "text": [
      "[[1.9298761e-06 4.8062748e-07 9.2960316e-01 3.9062849e-07 7.0320964e-02\n",
      "  1.5900069e-07 7.2418414e-05 2.2974390e-08 2.9773250e-07 7.2153306e-08]]\n",
      "\n",
      "Prediccion: Pullover\n"
     ]
    }
   ],
   "source": [
    "# obtener una imagen del dataset\n",
    "(_, _), (x_test, y_test) = keras.datasets.fashion_mnist.load_data()\n",
    "\n",
    "import random\n",
    "\n",
    "ind = random.randint(10,1000)\n",
    "\n",
    "testimg = x_test[ind]\n",
    "\n",
    "# imprimir\n",
    "plt.imshow(x_test[ind], cmap='Greys')\n",
    "plt.show()\n",
    "\n",
    "# normalizar la imagen y expandirla\n",
    "testimg = testimg.astype(\"float32\") / 255\n",
    "testimg = np.expand_dims(testimg, -1)\n",
    "\n",
    "# generar las probabilidades\n",
    "y_pred = model.predict(np.array([testimg]))\n",
    "\n",
    "# imprimir la lista de probabilidades\n",
    "print(y_pred)\n",
    "\n",
    "labels = ['T-shirt/top','Trouser','Pullover','Dress','Coat','Sandal','Shirt','Sneaker','Bag','Ankle boot']\n",
    "\n",
    "# argmax saca la clase con la probabilidad mas alta\n",
    "y_class = y_pred.argmax(axis=-1)\n",
    "\n",
    "# imprimir la clase\n",
    "print(\"\")\n",
    "print(\"Prediccion:\",labels[y_class[0]])"
   ]
  }
 ],
 "metadata": {
  "kernelspec": {
   "display_name": "Python 3",
   "language": "python",
   "name": "python3"
  },
  "language_info": {
   "codemirror_mode": {
    "name": "ipython",
    "version": 3
   },
   "file_extension": ".py",
   "mimetype": "text/x-python",
   "name": "python",
   "nbconvert_exporter": "python",
   "pygments_lexer": "ipython3",
   "version": "3.6.10"
  }
 },
 "nbformat": 4,
 "nbformat_minor": 4
}
