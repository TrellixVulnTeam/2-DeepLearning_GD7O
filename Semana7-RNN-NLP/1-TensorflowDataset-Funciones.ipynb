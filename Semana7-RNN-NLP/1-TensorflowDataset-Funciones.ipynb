{
 "cells": [
  {
   "cell_type": "markdown",
   "metadata": {
    "id": "BvhRni8sP5aN"
   },
   "source": [
    "## Funciones Basicas de Tensorflow 2.x para NLP"
   ]
  },
  {
   "cell_type": "code",
   "execution_count": 3,
   "metadata": {
    "id": "6bG0KH4TK5zs"
   },
   "outputs": [],
   "source": [
    "import warnings\n",
    "warnings.filterwarnings('ignore')\n",
    "\n",
    "import keras \n",
    "import numpy as np\n",
    "import matplotlib.pyplot as plt\n",
    "import matplotlib as mpl\n",
    "import pandas as pd\n",
    "import tensorflow as tf\n",
    "from tensorflow import keras\n",
    "\n",
    "# Este notebook require Tensorflow 2.X"
   ]
  },
  {
   "cell_type": "markdown",
   "metadata": {
    "id": "S9GJ8iDeLy1U"
   },
   "source": [
    "### Generacion de cadenas de largo 5.\n",
    "\n",
    "El siguiente codigo utiliza las funcionalidaders de Tensorflow 2.x para dividir una secuencia de 0 a 14 en ventanas de tamano 5. Despues de partir la sequencia en las ventanas, las baraja y luego las separa en batches de X y Y."
   ]
  },
  {
   "cell_type": "code",
   "execution_count": 29,
   "metadata": {
    "colab": {
     "base_uri": "https://localhost:8080/"
    },
    "id": "w06jhgaxLUqG",
    "outputId": "bcefabb3-5ba8-41d4-b5e4-45e2d2f5eded"
   },
   "outputs": [
    {
     "name": "stdout",
     "output_type": "stream",
     "text": [
      "[0 1 2 3 4]\n",
      "[2 3 4 5 6]\n",
      "[4 5 6 7 8]\n",
      "[ 6  7  8  9 10]\n",
      "[ 8  9 10 11 12]\n",
      "[10 11 12 13 14]\n"
     ]
    }
   ],
   "source": [
    "np.random.seed(42)\n",
    "tf.random.set_seed(42)\n",
    "n_steps = 5\n",
    "\n",
    "# carga la colleccion en tensor slices\n",
    "dataset = tf.data.Dataset.from_tensor_slices(tf.range(15)) \n",
    "# genera las series de tamano 5 con shift de 2\n",
    "dataset = dataset.window(n_steps, shift=2, drop_remainder=True)\n",
    "# genera las cadenas individuales.\n",
    "dataset = dataset.flat_map(lambda window: window.batch(n_steps))\n",
    "\n",
    "for item in enumerate(dataset):\n",
    "  print(item[1].numpy())"
   ]
  },
  {
   "cell_type": "code",
   "execution_count": 30,
   "metadata": {
    "colab": {
     "base_uri": "https://localhost:8080/"
    },
    "id": "uUXLYkMSNkFX",
    "outputId": "507785ab-2d5c-4d5d-f281-0d23ea9d9f52"
   },
   "outputs": [
    {
     "name": "stdout",
     "output_type": "stream",
     "text": [
      "**** Batch: 0  ****\n",
      "== X ==\n",
      "[[0 1 2 3]\n",
      " [2 3 4 5]\n",
      " [4 5 6 7]]\n",
      "== Y ==\n",
      "[[1 2 3 4]\n",
      " [3 4 5 6]\n",
      " [5 6 7 8]]\n",
      "**** Batch: 1  ****\n",
      "== X ==\n",
      "[[ 6  7  8  9]\n",
      " [ 8  9 10 11]\n",
      " [10 11 12 13]]\n",
      "== Y ==\n",
      "[[ 7  8  9 10]\n",
      " [ 9 10 11 12]\n",
      " [11 12 13 14]]\n"
     ]
    }
   ],
   "source": [
    "# Baraja el dataset y lo separa en 2 ventanas\n",
    "dataset = dataset.shuffle(10).map(lambda window: (window[:-1], window[1:]))\n",
    "# crea batches de 3 elementos\n",
    "dataset = dataset.batch(3).prefetch(1)\n",
    "\n",
    "for item, (X,Y) in enumerate(dataset):\n",
    "  print(\"**** Batch:\",item,\" ****\")\n",
    "  print(\"== X ==\")\n",
    "  print(X.numpy())\n",
    "  print(\"== Y ==\")\n",
    "  print(Y.numpy())"
   ]
  }
 ],
 "metadata": {
  "colab": {
   "collapsed_sections": [],
   "name": "1-TensorflowDataset-Funciones.ipynb",
   "provenance": [],
   "toc_visible": true
  },
  "kernelspec": {
   "display_name": "Python 3",
   "language": "python",
   "name": "python3"
  },
  "language_info": {
   "codemirror_mode": {
    "name": "ipython",
    "version": 3
   },
   "file_extension": ".py",
   "mimetype": "text/x-python",
   "name": "python",
   "nbconvert_exporter": "python",
   "pygments_lexer": "ipython3",
   "version": "3.6.12"
  }
 },
 "nbformat": 4,
 "nbformat_minor": 1
}
